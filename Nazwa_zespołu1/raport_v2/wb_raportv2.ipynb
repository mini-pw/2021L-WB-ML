{
 "cells": [
  {
   "cell_type": "markdown",
   "metadata": {},
   "source": [
    "# WB - report 2"
   ]
  },
  {
   "cell_type": "markdown",
   "metadata": {},
   "source": [
    "The article ‘An interpretable mortality prediction model for COVID-19 patients’ written in the first months of the pandemic laid the foundations for further research in the area it focuses on.  Implementation of machine learning models can significantly help medics properly adjust their resources and hence to cope better with the virus. Therefore, it was quite obvious that the simple model proposed by the Chinese scientists will attract great interest from other researchers and cause their willingness to adapt the proposed solution to patients in their countries. And indeed a few groups testes the model and responded to the Chinese authors using ‘Matters Arising’. In the following paragraphs we are both analyzing their answers but foremostly we are presenting our own added value to the original paper in various forms (new models, interactive dashboard, etc.)."
   ]
  },
  {
   "cell_type": "markdown",
   "metadata": {},
   "source": [
    "## 1. Analysis and comparison of ‘Matters Arising’ papers"
   ]
  },
  {
   "cell_type": "markdown",
   "metadata": {},
   "source": [
    "#### a) ‘External validation demonstrates limited clinical utility of the interpretable mortality prediction model for patients with COVID-19’"
   ]
  },
  {
   "cell_type": "markdown",
   "metadata": {},
   "source": [
    "The authors of the first reply based their research on data gathered in the American hospitals and their validation set consisted of more than 1000 patients what is a significantly greater figure than about 500 people from Wuhan that were taken into account by the Chinese scientists. The American researchers admitted that it is very enticing to use the proposed model due to its simplicity. However, since the beginning of their paper they reminded that the creators of the model used a small validation sample size and they did not externally validate their model. These two factors have definitely been a red flag for the authors of the response. Moreover they stressed that the model was aimed to prioritize care but was not applied to new patients what may appear to be a hypocrisy. Apart from that they added that the fact that the performance od the model improves when the date of discharge or death is to occur is not clinically useful since it is a posterior knowledge. Finally they presented the performance of the decision tree on their data and they claimed that it’s accuracy is no better than the accuracy of the null model that is always predicting survival. To sum up, the authors praised the effort to create a very needed model but they concluded with a statement that the version that was proposed ‘cannot be recommended for routine clinical implementation’."
   ]
  },
  {
   "cell_type": "markdown",
   "metadata": {},
   "source": [
    "#### b) ‘Replication of a mortality prediction model in Dutch patients with COVID-19’"
   ]
  },
  {
   "cell_type": "markdown",
   "metadata": {},
   "source": [
    "Authors of the second reply were scientists who work in the Netherlands and hence patients that they based their validations on were Dutch. However, in comparison to the American scientists they carried out their research only on blood samples from 300 people. Their findings were also much more optimistic since they stated that although the model has only 27% mortality prediction accuracy, it has 92% survival prediction accuracy. Therefore they summed up their short research with a statement that probably a favorable outcome from the model is a good indicator of non-admission to a hospital. They also added that such differences between different nations should not be perceived as something extraordinary since for example ‘LDH expression has been reported to display substantial genetic heterogeneity between Asians and Caucasians’."
   ]
  },
  {
   "cell_type": "markdown",
   "metadata": {},
   "source": [
    "#### c) ‘Limited applicability of a COVID-19 specific mortality prediction rule to the intensive care setting’"
   ]
  },
  {
   "cell_type": "markdown",
   "metadata": {},
   "source": [
    "The third response was prepared by a group of scientists working on a French data gathered during spring of 2020. This group used data from 178 patients what is a lower number than the Dutch or American data. At the beginning the researchers admitted need of external repeatability prior to real-life implementation. To do so they validated the model on their data and received ‘extremely low’ precision and accuracy for the prediction of death. However, they explained such results by claiming that the patients they were working on were a specific group that didn’t include patients that had clearly good or bad outcomes. The scientists argued that the model could still be useful to predict ICU admission so they somehow support similar claim that was proposed by the Dutch. They also suggested that creating different models to different stages of the disease could be a good idea and they also suggested that predicting worsening of the disease instead of death could be a better idea. Finally the researchers added that development of predictive models for COVID-19 is crucial and usage of 3 key indicators proposed by the Chinese is probably a good starting point."
   ]
  },
  {
   "cell_type": "markdown",
   "metadata": {},
   "source": [
    "## 2. Dashboard"
   ]
  },
  {
   "cell_type": "markdown",
   "metadata": {},
   "source": [
    "In order to better understand the model proposed by the Chinese researchers a dashboard was prepared that trains a model on specific train set according to a chosen nationality of the patient. In case of ‘Else’ option it trains a model on the combination of all data sets. The dashboard then presents the accuracy of the model that has just been trained."
   ]
  },
  {
   "cell_type": "markdown",
   "metadata": {},
   "source": [
    "<img src=\"dash1.png\" width=\"600\">"
   ]
  },
  {
   "cell_type": "markdown",
   "metadata": {},
   "source": [
    "In the next steps the app gives user the possibility to choose values of the 3 key indicators proposed by the Chinese scientists along plots presenting distributions of the considered variable in the analyzed set.\n",
    "<img src=\"dash2.png\" width=\"600\">"
   ]
  },
  {
   "cell_type": "markdown",
   "metadata": {},
   "source": [
    "The final part of the dashboard includes the probabilities of survival and death according to the model as well as its verdict. This simple dashboard is an example of how the model could be deployed so that the medics could use it."
   ]
  },
  {
   "cell_type": "markdown",
   "metadata": {},
   "source": [
    "<img src=\"dash3.png\" width=\"600\">"
   ]
  },
  {
   "cell_type": "code",
   "execution_count": null,
   "metadata": {},
   "outputs": [],
   "source": []
  }
 ],
 "metadata": {
  "kernelspec": {
   "display_name": "Python 3",
   "language": "python",
   "name": "python3"
  },
  "language_info": {
   "codemirror_mode": {
    "name": "ipython",
    "version": 3
   },
   "file_extension": ".py",
   "mimetype": "text/x-python",
   "name": "python",
   "nbconvert_exporter": "python",
   "pygments_lexer": "ipython3",
   "version": "3.7.6"
  }
 },
 "nbformat": 4,
 "nbformat_minor": 4
}
