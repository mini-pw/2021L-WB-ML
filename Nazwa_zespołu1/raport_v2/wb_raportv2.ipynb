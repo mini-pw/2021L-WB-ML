{
 "cells": [
  {
   "cell_type": "markdown",
   "metadata": {},
   "source": [
    "# WB - report 2"
   ]
  },
  {
   "cell_type": "markdown",
   "metadata": {},
   "source": [
    "The article ‘An interpretable mortality prediction model for COVID-19 patients’ written in the first months of the pandemic laid the foundations for further research in the area it focuses on.  Implementation of machine learning models can significantly help medics properly adjust their resources and hence to cope better with the virus. Therefore, it was quite obvious that the simple model proposed by the Chinese scientists will attract great interest from other researchers and cause their willingness to adapt the proposed solution to patients in their countries. And indeed a few groups testes the model and responded to the Chinese authors using ‘Matters Arising’. In the following paragraphs we are both analyzing their answers but foremostly we are presenting our own added value to the original paper in various forms (new models, interactive dashboard, etc.)."
   ]
  },
  {
   "cell_type": "markdown",
   "metadata": {},
   "source": [
    "## 1. Analysis and comparison of ‘Matters Arising’ papers"
   ]
  },
  {
   "cell_type": "markdown",
   "metadata": {},
   "source": [
    "#### a) ‘External validation demonstrates limited clinical utility of the interpretable mortality prediction model for patients with COVID-19’"
   ]
  },
  {
   "cell_type": "markdown",
   "metadata": {},
   "source": [
    "The authors of the first reply based their research on data gathered in the American hospitals and their validation set consisted of more than 1000 patients what is a significantly greater figure than about 500 people from Wuhan that were taken into account by the Chinese scientists. The American researchers admitted that it is very enticing to use the proposed model due to its simplicity. However, since the beginning of their paper they reminded that the creators of the model used a small validation sample size and they did not externally validate their model. These two factors have definitely been a red flag for the authors of the response. Moreover they stressed that the model was aimed to prioritize care but was not applied to new patients what may appear to be a hypocrisy. Apart from that they added that the fact that the performance od the model improves when the date of discharge or death is to occur is not clinically useful since it is a posterior knowledge. Finally they presented the performance of the decision tree on their data and they claimed that it’s accuracy is no better than the accuracy of the null model that is always predicting survival. To sum up, the authors praised the effort to create a very needed model but they concluded with a statement that the version that was proposed ‘cannot be recommended for routine clinical implementation’."
   ]
  },
  {
   "cell_type": "markdown",
   "metadata": {},
   "source": [
    "#### Feature distribution comparision"
   ]
  },
  {
   "cell_type": "markdown",
   "metadata": {},
   "source": [
    "![](usa_comp/ldh_usa.png)"
   ]
  },
  {
   "cell_type": "markdown",
   "metadata": {},
   "source": [
    "Lactate dehydrogenase was the main feature that helped to predict if the patient will die from COVID-19. While it is true that it separates the data in original dataset very well, it fails to separate the american patients. <br />\n",
    "We can observe the same thing with another feature used in the model with top four features: C-reactive protein."
   ]
  },
  {
   "cell_type": "markdown",
   "metadata": {},
   "source": [
    "![](usa_comp/crp_usa.png)\n"
   ]
  },
  {
   "cell_type": "markdown",
   "metadata": {},
   "source": [
    "#### b) ‘Replication of a mortality prediction model in Dutch patients with COVID-19’"
   ]
  },
  {
   "cell_type": "markdown",
   "metadata": {},
   "source": [
    "Authors of the second reply were scientists who work in the Netherlands and hence patients that they based their validations on were Dutch. However, in comparison to the American scientists they carried out their research only on blood samples from 300 people. Their findings were also much more optimistic since they stated that although the model has only 27% mortality prediction accuracy, it has 92% survival prediction accuracy. Therefore they summed up their short research with a statement that probably a favorable outcome from the model is a good indicator of non-admission to a hospital. They also added that such differences between different nations should not be perceived as something extraordinary since for example ‘LDH expression has been reported to display substantial genetic heterogeneity between Asians and Caucasians’."
   ]
  },
  {
   "cell_type": "markdown",
   "metadata": {},
   "source": [
    "#### Feature distribution comparision"
   ]
  },
  {
   "cell_type": "markdown",
   "metadata": {},
   "source": [
    "![](dutch_comp/ldh_dutch.png)"
   ]
  },
  {
   "cell_type": "markdown",
   "metadata": {},
   "source": [
    "![](dutch_comp/crp_dutch.png)"
   ]
  },
  {
   "cell_type": "markdown",
   "metadata": {},
   "source": [
    "The same pattern as in the american dataset, that continues to prove that LDH and C-reactive protein may not good predictors for dying from COVID-19 for caucasian/black people as it is for asian people. <br /> It is important to note, that the american dataset contains LDH and CRP measured at the start and at the end of the hospital stay, therefore the dots and boxplots show the mean of those two values."
   ]
  },
  {
   "cell_type": "markdown",
   "metadata": {},
   "source": [
    "#### c) ‘Limited applicability of a COVID-19 specific mortality prediction rule to the intensive care setting’"
   ]
  },
  {
   "cell_type": "markdown",
   "metadata": {},
   "source": [
    "The third response was prepared by a group of scientists working on a French data gathered during spring of 2020. This group used data from 178 patients what is a lower number than the Dutch or American data. At the beginning the researchers admitted need of external repeatability prior to real-life implementation. To do so they validated the model on their data and received ‘extremely low’ precision and accuracy for the prediction of death. However, they explained such results by claiming that the patients they were working on were a specific group that didn’t include patients that had clearly good or bad outcomes. The scientists argued that the model could still be useful to predict ICU admission so they somehow support similar claim that was proposed by the Dutch. They also suggested that creating different models to different stages of the disease could be a good idea and they also suggested that predicting worsening of the disease instead of death could be a better idea. Finally the researchers added that development of predictive models for COVID-19 is crucial and usage of 3 key indicators proposed by the Chinese is probably a good starting point."
   ]
  },
  {
   "cell_type": "markdown",
   "metadata": {},
   "source": [
    "#### Feature distribution comparision"
   ]
  },
  {
   "cell_type": "markdown",
   "metadata": {},
   "source": [
    "![](french_comp/ldh_french.png)"
   ]
  },
  {
   "cell_type": "markdown",
   "metadata": {},
   "source": [
    "![](french_comp/crp_french.png)"
   ]
  },
  {
   "cell_type": "markdown",
   "metadata": {},
   "source": [
    "Exactly the same pattern in the dataset from France."
   ]
  },
  {
   "cell_type": "markdown",
   "metadata": {},
   "source": [
    "## 2. Dashboard"
   ]
  },
  {
   "cell_type": "markdown",
   "metadata": {},
   "source": [
    "In order to better understand the model proposed by the Chinese researchers a dashboard was prepared that trains a model on specific train set according to a chosen nationality of the patient. In case of ‘Else’ option it trains a model on the combination of all data sets. The dashboard then presents the accuracy of the model that has just been trained."
   ]
  },
  {
   "cell_type": "markdown",
   "metadata": {},
   "source": [
    "<img src=\"dash1.png\" width=\"600\">"
   ]
  },
  {
   "cell_type": "markdown",
   "metadata": {},
   "source": [
    "In the next steps the app gives user the possibility to choose values of the 3 key indicators proposed by the Chinese scientists along plots presenting distributions of the considered variable in the analyzed set.\n",
    "<img src=\"dash2.png\" width=\"600\">"
   ]
  },
  {
   "cell_type": "markdown",
   "metadata": {},
   "source": [
    "The final part of the dashboard includes the probabilities of survival and death according to the model as well as its verdict. This simple dashboard is an example of how the model could be deployed so that the medics could use it."
   ]
  },
  {
   "cell_type": "markdown",
   "metadata": {},
   "source": [
    "<img src=\"dash3.png\" width=\"600\">"
   ]
  },
  {
   "cell_type": "markdown",
   "metadata": {},
   "source": [
    "## 3. New models"
   ]
  },
  {
   "cell_type": "markdown",
   "metadata": {},
   "source": [
    "### Introduction"
   ]
  },
  {
   "cell_type": "markdown",
   "metadata": {},
   "source": [
    "As it was mentioned in the previous chapter, the model proposed in the article 'An interpretable mortality prediction model for COVID-19 patients' has shown only limited usefulness in other datasets. Thus our team decided to build new models trained on the same dataset as the original algorithm, but with additional variables.  "
   ]
  },
  {
   "cell_type": "markdown",
   "metadata": {},
   "source": [
    "The majority of patients from all datasets have been examined several times before discharge or death. However,the original model takes only one set of results per patient into consideration and ignores previous examinations and possible tendencies in the patient's condition. To use this information new variables have been created. For each index used in the original model (Lactate dehydrogenase, c-protein, (%)lymphocyte), the first two registered values had been taken and then the observation was subtracted from the second one. The final dataset includes only this difference and the second available value for each index.   "
   ]
  },
  {
   "cell_type": "markdown",
   "metadata": {},
   "source": [
    "### Models"
   ]
  },
  {
   "cell_type": "markdown",
   "metadata": {},
   "source": [
    "To verify if models trained on such modified data might have better performance, additional machine learning algorithms have been used. The first one is simple logistic regression obtained by grid search model tuning. Variables coefficients are as shown in the following table:"
   ]
  },
  {
   "cell_type": "markdown",
   "metadata": {},
   "source": [
    " <img src=\"Model_images/log_score.png\" width=\"1700\">"
   ]
  },
  {
   "cell_type": "markdown",
   "metadata": {},
   "source": [
    "The next model is Tabnet classifier (https://arxiv.org/abs/1908.07442), deep learning model for tabular data. It allows to create high performance and explainable classifer on numeric datasets. Tabnet offers both global:"
   ]
  },
  {
   "cell_type": "markdown",
   "metadata": {},
   "source": [
    "<img src=\"Model_images/tab_score.png\" width=\"1700\">"
   ]
  },
  {
   "cell_type": "markdown",
   "metadata": {},
   "source": [
    "and local explainability: "
   ]
  },
  {
   "cell_type": "markdown",
   "metadata": {},
   "source": [
    "<img src=\"Model_images/tab_masks.png\" width=\"500\" height = \"100\">"
   ]
  },
  {
   "cell_type": "markdown",
   "metadata": {},
   "source": [
    "The last created model is Support Vector Machine, tuned with grid search. It is the only not explainable algorithm in experiment. "
   ]
  },
  {
   "cell_type": "markdown",
   "metadata": {},
   "source": [
    "### Validation"
   ]
  },
  {
   "cell_type": "markdown",
   "metadata": {},
   "source": [
    "#### Chinese supplementary dataset"
   ]
  },
  {
   "cell_type": "markdown",
   "metadata": {},
   "source": [
    "To validate created models, data from Chinese, American and French hospitals has been applied. In the first part of validation, each model had had to predict the outcome for each patient in the Chinese supplementary dataset (different than training set). Then, the model performance was measured with accuracy, recall, precision and F-score metrics (positive outcome means patient's death). To compare with the original algorithm, validation was also performed on the tree-based model presented in the article."
   ]
  },
  {
   "cell_type": "markdown",
   "metadata": {},
   "source": [
    "<img src=\"Model_images/chinese_results.png\" width=\"1200\" height = \"100\">"
   ]
  },
  {
   "cell_type": "markdown",
   "metadata": {},
   "source": [
    "<img src=\"Model_images/chinese_parallel.png\" width=\"1200\" height = \"100\">"
   ]
  },
  {
   "cell_type": "markdown",
   "metadata": {},
   "source": [
    "Although the original tree-based model together with SVM has the highest recall level, all new models reached much better precision and F-score. The best accuracy is observed for Logistic and SVM models."
   ]
  },
  {
   "cell_type": "markdown",
   "metadata": {},
   "source": [
    "#### American dataset"
   ]
  },
  {
   "cell_type": "markdown",
   "metadata": {},
   "source": [
    "A similar validation process was conducted with the American patients dataset."
   ]
  },
  {
   "cell_type": "markdown",
   "metadata": {},
   "source": [
    "<img src=\"Model_images/american_results.png\" width=\"1200\" height = \"100\">"
   ]
  },
  {
   "cell_type": "markdown",
   "metadata": {},
   "source": [
    "<img src=\"Model_images/american_parallel.png\" width=\"1200\" height = \"100\">"
   ]
  },
  {
   "cell_type": "markdown",
   "metadata": {},
   "source": [
    "In this dataset, the tree-based has the best recall and significantly worse than other models precision. The best accuracy was reached by Tabnet. Additionally, a remarkable performance drop is observed for all models."
   ]
  },
  {
   "cell_type": "markdown",
   "metadata": {},
   "source": [
    "### Models trained on the merged dataset"
   ]
  },
  {
   "cell_type": "markdown",
   "metadata": {},
   "source": [
    "The last part of verifying if models trained on such modified data might have better performance was merging all available data i.e. Chinese, American, French and Dutch datasets into aggregated one. After that, models introduced in previous chapters were trained once again on such dataset. "
   ]
  },
  {
   "cell_type": "markdown",
   "metadata": {},
   "source": [
    "Variables coefficients for logistic regression model:"
   ]
  },
  {
   "cell_type": "markdown",
   "metadata": {},
   "source": [
    "<img src=\"Model_images/log_score_merged.png\" width=\"1200\" height = \"100\">"
   ]
  },
  {
   "cell_type": "markdown",
   "metadata": {},
   "source": [
    "Variables coefficients for Tabnet classifier:"
   ]
  },
  {
   "cell_type": "markdown",
   "metadata": {},
   "source": [
    "<img src=\"Model_images/tab_score_merged.png\" width=\"1200\" height = \"100\">"
   ]
  },
  {
   "cell_type": "markdown",
   "metadata": {},
   "source": [
    "Performance checkup was conducted in similar approach as for original datasets:"
   ]
  },
  {
   "cell_type": "markdown",
   "metadata": {},
   "source": [
    "<img src=\"Model_images/merged_results.png\" width=\"1200\" height = \"100\">"
   ]
  },
  {
   "cell_type": "markdown",
   "metadata": {},
   "source": [
    "<img src=\"Model_images/merged_parallel.png\" width=\"1200\" height = \"100\">"
   ]
  },
  {
   "cell_type": "markdown",
   "metadata": {},
   "source": [
    "In the last dataset, the tree-based model has by far the worst performance. The most efficient model is Tabnet which has accuracy over 0.85 and 0.76 F-score."
   ]
  }
 ],
 "metadata": {
  "kernelspec": {
   "display_name": "Python 3",
   "language": "python",
   "name": "python3"
  },
  "language_info": {
   "codemirror_mode": {
    "name": "ipython",
    "version": 3
   },
   "file_extension": ".py",
   "mimetype": "text/x-python",
   "name": "python",
   "nbconvert_exporter": "python",
   "pygments_lexer": "ipython3",
   "version": "3.7.9"
  }
 },
 "nbformat": 4,
 "nbformat_minor": 4
}
